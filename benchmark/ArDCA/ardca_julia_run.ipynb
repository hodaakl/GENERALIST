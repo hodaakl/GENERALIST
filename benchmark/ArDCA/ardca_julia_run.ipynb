{
 "cells": [
  {
   "cell_type": "markdown",
   "id": "858a115d-c8d6-482e-aaf7-c3fa99343635",
   "metadata": {},
   "source": [
    "Here we follow the published instructions to train ArDCA model published in the paper \n",
    "\n",
    "Trinquier, J., Uguzzoni, G., Pagnani, A., Zamponi, F. & Weigt, M. Efficient generative modeling of protein sequences using simple autoregressive models. Nat Commun 12, 5800 (2021).\n",
    "\n",
    "we follow the tutorial notebook\n",
    " at https://github.com/pagnani/ArDCA.jl/tree/master/julia-notebook to train ArDCA model on different proteins. \n",
    "\n",
    "This notebook is a record of the parameters used and extracted, if you wish to implement the ArDCA method, please use the original code at https://github.com/pagnani/ArDCA *not* this jupyter notebook.\n",
    "\n",
    "After training the model, we extract the following parameters: single site fields ``H``, two site couplings ``J``, the vector corresponding to the how the positions are permuted ``idxperm``, and the probability of amino acids at the initial site in the\n",
    "sequence given the chosen ordering ``p0``, and save them to use them in the probability calculation. We extract the weights ``W`` to make sure they are all equal.\n"
   ]
  },
  {
   "cell_type": "code",
   "execution_count": 1,
   "id": "0c28067d",
   "metadata": {
    "tags": []
   },
   "outputs": [],
   "source": [
    "# # had to run this in windows \n",
    "# using Pkg\n",
    "\n",
    "# Pkg.add(\"ArDCA\")\n",
    "# Pkg.add(\"utils\")"
   ]
  },
  {
   "cell_type": "code",
   "execution_count": 1,
   "id": "848b8711",
   "metadata": {},
   "outputs": [],
   "source": [
    "using ArDCA\n",
    "using NPZ\n",
    "# using utils\n",
    "# import Pkg; Pkg.add(\"ExtractMacro\")\n",
    "using ExtractMacro: @extract"
   ]
  },
  {
   "cell_type": "code",
   "execution_count": 23,
   "id": "7e0b86f0-c3aa-4b32-820f-4fcbd887b625",
   "metadata": {},
   "outputs": [],
   "source": [
    "# export ardca,ArVar,ArAlg,ArNet,sample,sample_with_weights,epistatic_score,dms_single_site, tensorize\n"
   ]
  },
  {
   "cell_type": "markdown",
   "id": "72c14dee-0364-42ac-9181-fc62922751a2",
   "metadata": {},
   "source": [
    "Grabbing the funcion tensorize from https://github.com/pagnani/ArDCA.jl/blob/master/src/utils.jl to use on the couplings of the model before saving"
   ]
  },
  {
   "cell_type": "code",
   "execution_count": 2,
   "id": "fa760ea4-774e-4954-9ba6-390b3f454df3",
   "metadata": {},
   "outputs": [
    {
     "data": {
      "text/plain": [
       "tensorize (generic function with 1 method)"
      ]
     },
     "execution_count": 2,
     "metadata": {},
     "output_type": "execute_result"
    }
   ],
   "source": [
    "### This function is found in utils and I want to use it in this notebook -- \n",
    "function tensorize(arnet::ArNet; tiny::Float64=1e-16) \n",
    "    @extract arnet:J H idxperm p0\n",
    "    N = length(idxperm)\n",
    "    q = length(H[1])\n",
    "    p0pc = (1.0-tiny)*p0 .+ tiny/q\n",
    "    outJ = zeros(q, q, N, N)\n",
    "    outH = zeros(q, N)\n",
    "    shiftH0 = sum(log.(p0pc)) / q\n",
    "    outH[:,idxperm[1]] .= log.(p0pc) .- shiftH0\n",
    "    for i in 1:N - 1\n",
    "        si = idxperm[i + 1]\n",
    "        Js = J[i]\n",
    "        outH[:,si] .= H[i]\n",
    "        for j in 1:i\n",
    "            sj = idxperm[j]            \n",
    "            outJ[:,:,si,sj] .= Js[:,:,j]\n",
    "            outJ[:,:,sj,si] .= Js[:,:,j]'\n",
    "        end\n",
    "    end\n",
    "    outJ, outH\n",
    "end"
   ]
  },
  {
   "cell_type": "code",
   "execution_count": null,
   "id": "21b21d0e-ab78-4e1d-9e13-55fd4248adde",
   "metadata": {},
   "outputs": [],
   "source": []
  },
  {
   "cell_type": "code",
   "execution_count": 20,
   "id": "5208f170",
   "metadata": {},
   "outputs": [],
   "source": [
    "# mypkgdir = normpath(joinpath(pwd(),\"..\"))\n",
    "# datadir=joinpath(mypkgdir,\"data\") # put here your path\n",
    "# using Pkg\n",
    "# Pkg.activate(mypkgdir)\n",
    "# using ArDCA"
   ]
  },
  {
   "cell_type": "code",
   "execution_count": 3,
   "id": "75f88504",
   "metadata": {},
   "outputs": [],
   "source": [
    "# fastafile = joinpath(datadir,\"PF14/PF00014_mgap6.fasta.gz\")\n",
    "fastafile = \"../msa_mtor_unimsa.fa\"\n",
    "# weights = fill(1/785,785)\n",
    "# arnet,arvar=ardca(fastafile, verbose=false, lambdaJ=10^-4,lambdaH=10^-6, W = weights);"
   ]
  },
  {
   "cell_type": "code",
   "execution_count": 4,
   "id": "1109d6d7",
   "metadata": {},
   "outputs": [
    {
     "name": "stdout",
     "output_type": "stream",
     "text": [
      "removing duplicate sequences... done: 529 -> 529\n",
      "θ = 0.0 threshold = 0.0\n",
      "M = 529 N = 2549 Meff = 529\n"
     ]
    },
    {
     "data": {
      "text/plain": [
       "(ArNet [N=2549 q=21], ArVar [N=2549 M=529 q=21 λJ = 0.00010000000000000002 λH = 1.0000000000000004e-6 Z::Int8])"
      ]
     },
     "execution_count": 4,
     "metadata": {},
     "output_type": "execute_result"
    }
   ],
   "source": [
    "arnet, arvar = ardca(fastafile,  lambdaJ=10^-4,lambdaH=10^-6,max_gap_fraction=1, theta = 0, verbose=false)"
   ]
  },
  {
   "cell_type": "code",
   "execution_count": 5,
   "id": "4b7890a3-1397-4f22-9aa4-b1072699a008",
   "metadata": {},
   "outputs": [],
   "source": [
    "@extract arnet:J H idxperm p0;\n",
    "@extract arvar:W;"
   ]
  },
  {
   "cell_type": "code",
   "execution_count": 6,
   "id": "cd058e08-6a92-459b-9790-f63c1a12a923",
   "metadata": {},
   "outputs": [],
   "source": [
    "outJ, outH = tensorize(arnet);"
   ]
  },
  {
   "cell_type": "code",
   "execution_count": 7,
   "id": "ef954831-ec8f-4c72-97da-85dc8e937bf8",
   "metadata": {},
   "outputs": [],
   "source": [
    "using NPZ\n",
    "## CHANGE TO MTOR\n",
    "npzwrite(\"~/hodaakl/A4PSV/ArDCA/EqWeights/J_mtor_ardca_eqW.npz\" ,outJ)\n",
    "npzwrite(\"~/hodaakl/A4PSV/ArDCA/EqWeights/H_mtor_ardca_eqW.npz\" ,outH)\n",
    "npzwrite(\"~/hodaakl/A4PSV/ArDCA/EqWeights/p0_mtor_ardca_eqW.npz\",p0)\n",
    "npzwrite(\"~/hodaakl/A4PSV/ArDCA/EqWeights/W_mtor_ardca_eqW.npz\" , W)\n",
    "npzwrite(\"~/hodaakl/A4PSV/ArDCA/EqWeights/idxperm_mtor_ardca.npz\",idxperm)"
   ]
  },
  {
   "cell_type": "code",
   "execution_count": null,
   "id": "ae7c157a-1850-4d16-80c3-6d5cd7732cc3",
   "metadata": {},
   "outputs": [],
   "source": []
  },
  {
   "cell_type": "code",
   "execution_count": 8,
   "id": "ec190004",
   "metadata": {},
   "outputs": [],
   "source": [
    "M = 529;\n",
    "generated_alignment = sample(arnet,M);"
   ]
  },
  {
   "cell_type": "code",
   "execution_count": 62,
   "id": "f2944eb1-5426-4f84-9d6c-99a4aec23012",
   "metadata": {
    "collapsed": true,
    "jupyter": {
     "outputs_hidden": true
    },
    "tags": []
   },
   "outputs": [
    {
     "data": {
      "text/plain": [
       "1091×1010 Matrix{Int64}:\n",
       " 21  21  21  21  21  21  21  21  21  …  21  21  21  21  21  21  21  21  21\n",
       " 21  21  21  21  21  21  21  21  21     21  21  21  21  21  21  21  21  21\n",
       " 21  21  21  21  21  21  21  21  21     21  21  21  21  21  21  21  21  21\n",
       " 21  21  21  21  21  21  21  21  21     21  21  21  21  21  21  21  21  21\n",
       " 21  21  21  21  21  21  21  21  21     21  21  21  21  21  21  21  21  21\n",
       " 21  21  21  21  21  21  21  21  21  …  21  21  21  21  21  21  21  21  21\n",
       " 21  21  21  21  21  21  21  21  21     21  21  21  21  21  21  21  21  21\n",
       " 21  21  21  21  21  21  21  21  21     21  21  21  21  21  21  21  21  21\n",
       " 21  21  21  21  21  21  21  21  21     21  21  21  21  21  21  21  21  21\n",
       " 21  21  21  21  21  21  21  21  21     21  21   1  21  21  21  21  21  21\n",
       " 21  21  21  21  21  21  21  21  18  …  21  21  21  21  21  21  21  21  21\n",
       " 21  21  21  21  21  21  21  21  21     10  21  10  21  21  21  21  21  21\n",
       " 21  21  21  21  21  21  21  21  21     10  21   6  21  21  21  21  21  21\n",
       "  ⋮                   ⋮              ⋱                   ⋮              \n",
       " 21  21  21  21  21  21  21  21  21     21  21  21  21  21  21  21  21  21\n",
       " 21  21  21  21  21  21  21  21  21  …  21  21  21  21  21  21  21  21  21\n",
       " 21  21  21  21  21  21  21  21  21     21  21  21  21  21  21  21  21  21\n",
       " 21  21  21  21  21  21  21  21  21     21  21  21  21  21  21  21  21  21\n",
       " 21  21  21  21  21  21  21  21  21     21  21  21  21  21  21  21  21  21\n",
       " 21  21  21  21  21  21  21  21  21     21  21  21  21  21  21  21  21  21\n",
       " 21  21  21  21  21  21  21  21  21  …  21  21  21  21  21  21  21  21  21\n",
       " 21  21  21  21  21  21  21  21  21     21  21  21  21  21  21  21  21  21\n",
       " 21  21  21  21  21  21  21  21  21     21  21  21  21  21  21  21  21  21\n",
       " 21  21  21  21  21  21  21  21  21     21  21  21  21  21  21  21  21  21\n",
       " 21  21  21  21  21  21  21  21  21     21  21  21  21  21  21  21  21  21\n",
       " 21  21  21  21  21  21  21  21  21  …  21  21  21  21  21  21  21  21  21"
      ]
     },
     "execution_count": 62,
     "metadata": {},
     "output_type": "execute_result"
    }
   ],
   "source": [
    "generated_alignment"
   ]
  },
  {
   "cell_type": "code",
   "execution_count": 9,
   "id": "bbb9b187",
   "metadata": {},
   "outputs": [],
   "source": [
    "## save the generated data\n",
    "npzwrite(\"/Volumes/hodaakl/A4PSV/ArDCA/EqWeights/Gen_mtor_ardca_eqW.npz\",generated_alignment)"
   ]
  },
  {
   "cell_type": "code",
   "execution_count": null,
   "id": "2b705579-1a8e-404e-964f-7f660a05b9c5",
   "metadata": {},
   "outputs": [],
   "source": []
  }
 ],
 "metadata": {
  "kernelspec": {
   "display_name": "Julia 1.7.2",
   "language": "julia",
   "name": "julia-1.7"
  },
  "language_info": {
   "file_extension": ".jl",
   "mimetype": "application/julia",
   "name": "julia",
   "version": "1.7.2"
  }
 },
 "nbformat": 4,
 "nbformat_minor": 5
}
