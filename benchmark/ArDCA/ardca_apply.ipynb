{
 "cells": [
  {
   "cell_type": "markdown",
   "id": "858a115d-c8d6-482e-aaf7-c3fa99343635",
   "metadata": {},
   "source": [
    "Here we follow the published instructions to train ArDCA model published in the paper \n",
    "\n",
    "Trinquier, J., Uguzzoni, G., Pagnani, A., Zamponi, F. & Weigt, M. Efficient generative modeling of protein sequences using simple autoregressive models. Nat Commun 12, 5800 (2021).\n",
    "\n",
    "we follow the tutorial notebook\n",
    " at https://github.com/pagnani/ArDCA.jl/tree/master/julia-notebook to train ArDCA model on different proteins. \n",
    "\n",
    "This notebook is a record of the parameters used and extracted, if you wish to implement the ArDCA method, please use the original code at https://github.com/pagnani/ArDCA *not* this jupyter notebook.\n",
    "\n",
    "After training the model, we extract the following parameters: single site fields ``H``, two site couplings ``J``, the vector corresponding to the how the positions are permuted ``idxperm``, and the probability of amino acids at the initial site in the\n",
    "sequence given the chosen ordering ``p0``, and save them to use them in the probability calculation. We extract the weights ``W`` to make sure they are all equal.\n"
   ]
  },
  {
   "cell_type": "code",
   "execution_count": 1,
   "id": "0c28067d",
   "metadata": {
    "collapsed": true,
    "jupyter": {
     "outputs_hidden": true
    },
    "tags": []
   },
   "outputs": [
    {
     "name": "stderr",
     "output_type": "stream",
     "text": [
      "\u001b[32m\u001b[1m    Updating\u001b[22m\u001b[39m registry at `~/.julia/registries/General.toml`\n",
      "\u001b[32m\u001b[1m   Resolving\u001b[22m\u001b[39m package versions...\n",
      "\u001b[32m\u001b[1m  No Changes\u001b[22m\u001b[39m to `~/.julia/environments/v1.7/Project.toml`\n",
      "\u001b[32m\u001b[1m  No Changes\u001b[22m\u001b[39m to `~/.julia/environments/v1.7/Manifest.toml`\n"
     ]
    },
    {
     "ename": "LoadError",
     "evalue": "The following package names could not be resolved:\n * utils (not found in project, manifest or registry)\n",
     "output_type": "error",
     "traceback": [
      "The following package names could not be resolved:\n * utils (not found in project, manifest or registry)\n",
      "",
      "Stacktrace:",
      "  [1] pkgerror(msg::String)",
      "    @ Pkg.Types /Applications/Julia-1.7.app/Contents/Resources/julia/share/julia/stdlib/v1.7/Pkg/src/Types.jl:68",
      "  [2] ensure_resolved(manifest::Pkg.Types.Manifest, pkgs::Vector{Pkg.Types.PackageSpec}; registry::Bool)",
      "    @ Pkg.Types /Applications/Julia-1.7.app/Contents/Resources/julia/share/julia/stdlib/v1.7/Pkg/src/Types.jl:915",
      "  [3] add(ctx::Pkg.Types.Context, pkgs::Vector{Pkg.Types.PackageSpec}; preserve::Pkg.Types.PreserveLevel, platform::Base.BinaryPlatforms.Platform, kwargs::Base.Pairs{Symbol, IJulia.IJuliaStdio{Base.PipeEndpoint}, Tuple{Symbol}, NamedTuple{(:io,), Tuple{IJulia.IJuliaStdio{Base.PipeEndpoint}}}})",
      "    @ Pkg.API /Applications/Julia-1.7.app/Contents/Resources/julia/share/julia/stdlib/v1.7/Pkg/src/API.jl:257",
      "  [4] add(pkgs::Vector{Pkg.Types.PackageSpec}; io::IJulia.IJuliaStdio{Base.PipeEndpoint}, kwargs::Base.Pairs{Symbol, Union{}, Tuple{}, NamedTuple{(), Tuple{}}})",
      "    @ Pkg.API /Applications/Julia-1.7.app/Contents/Resources/julia/share/julia/stdlib/v1.7/Pkg/src/API.jl:149",
      "  [5] add(pkgs::Vector{Pkg.Types.PackageSpec})",
      "    @ Pkg.API /Applications/Julia-1.7.app/Contents/Resources/julia/share/julia/stdlib/v1.7/Pkg/src/API.jl:144",
      "  [6] #add#27",
      "    @ /Applications/Julia-1.7.app/Contents/Resources/julia/share/julia/stdlib/v1.7/Pkg/src/API.jl:142 [inlined]",
      "  [7] add",
      "    @ /Applications/Julia-1.7.app/Contents/Resources/julia/share/julia/stdlib/v1.7/Pkg/src/API.jl:142 [inlined]",
      "  [8] #add#26",
      "    @ /Applications/Julia-1.7.app/Contents/Resources/julia/share/julia/stdlib/v1.7/Pkg/src/API.jl:141 [inlined]",
      "  [9] add(pkg::String)",
      "    @ Pkg.API /Applications/Julia-1.7.app/Contents/Resources/julia/share/julia/stdlib/v1.7/Pkg/src/API.jl:141",
      " [10] top-level scope",
      "    @ In[1]:5",
      " [11] eval",
      "    @ ./boot.jl:373 [inlined]",
      " [12] include_string(mapexpr::typeof(REPL.softscope), mod::Module, code::String, filename::String)",
      "    @ Base ./loading.jl:1196"
     ]
    }
   ],
   "source": [
    "# # had to run this in windows \n",
    "import Pkg\n",
    "\n",
    "Pkg.add(\"ArDCA\")\n",
    "Pkg.add(\"utils\")\n",
    "Pkg.add(\"ExtractMacro\")\n",
    "Pkg.add(\"NPZ\")"
   ]
  },
  {
   "cell_type": "code",
   "execution_count": 2,
   "id": "848b8711",
   "metadata": {},
   "outputs": [],
   "source": [
    "using ArDCA\n",
    "using NPZ\n",
    "# using utils\n",
    "# import Pkg; \n",
    "using ExtractMacro: @extract"
   ]
  },
  {
   "cell_type": "code",
   "execution_count": 23,
   "id": "7e0b86f0-c3aa-4b32-820f-4fcbd887b625",
   "metadata": {},
   "outputs": [],
   "source": [
    "# export ardca,ArVar,ArAlg,ArNet,sample,sample_with_weights,epistatic_score,dms_single_site, tensorize\n"
   ]
  },
  {
   "cell_type": "markdown",
   "id": "72c14dee-0364-42ac-9181-fc62922751a2",
   "metadata": {},
   "source": [
    "Grabbing the funcion tensorize from https://github.com/pagnani/ArDCA.jl/blob/master/src/utils.jl to use on the couplings of the model before saving"
   ]
  },
  {
   "cell_type": "code",
   "execution_count": 2,
   "id": "fa760ea4-774e-4954-9ba6-390b3f454df3",
   "metadata": {},
   "outputs": [
    {
     "data": {
      "text/plain": [
       "tensorize (generic function with 1 method)"
      ]
     },
     "execution_count": 2,
     "metadata": {},
     "output_type": "execute_result"
    }
   ],
   "source": [
    "### This function is found in utils and I want to use it in this notebook -- \n",
    "function tensorize(arnet::ArNet; tiny::Float64=1e-16) \n",
    "    @extract arnet:J H idxperm p0\n",
    "    N = length(idxperm)\n",
    "    q = length(H[1])\n",
    "    p0pc = (1.0-tiny)*p0 .+ tiny/q\n",
    "    outJ = zeros(q, q, N, N)\n",
    "    outH = zeros(q, N)\n",
    "    shiftH0 = sum(log.(p0pc)) / q\n",
    "    outH[:,idxperm[1]] .= log.(p0pc) .- shiftH0\n",
    "    for i in 1:N - 1\n",
    "        si = idxperm[i + 1]\n",
    "        Js = J[i]\n",
    "        outH[:,si] .= H[i]\n",
    "        for j in 1:i\n",
    "            sj = idxperm[j]            \n",
    "            outJ[:,:,si,sj] .= Js[:,:,j]\n",
    "            outJ[:,:,sj,si] .= Js[:,:,j]'\n",
    "        end\n",
    "    end\n",
    "    outJ, outH\n",
    "end"
   ]
  },
  {
   "cell_type": "code",
   "execution_count": null,
   "id": "21b21d0e-ab78-4e1d-9e13-55fd4248adde",
   "metadata": {},
   "outputs": [],
   "source": []
  },
  {
   "cell_type": "code",
   "execution_count": 20,
   "id": "5208f170",
   "metadata": {},
   "outputs": [],
   "source": [
    "# mypkgdir = normpath(joinpath(pwd(),\"..\"))\n",
    "# datadir=joinpath(mypkgdir,\"data\") # put here your path\n",
    "# using Pkg\n",
    "# Pkg.activate(mypkgdir)\n",
    "# using ArDCA"
   ]
  },
  {
   "cell_type": "code",
   "execution_count": 3,
   "id": "75f88504",
   "metadata": {},
   "outputs": [],
   "source": [
    "# fastafile = joinpath(datadir,\"PF14/PF00014_mgap6.fasta.gz\")\n",
    "fastafile = \"../msa_mtor_unimsa.fa\"\n",
    "# weights = fill(1/785,785)\n",
    "# arnet,arvar=ardca(fastafile, verbose=false, lambdaJ=10^-4,lambdaH=10^-6, W = weights);"
   ]
  },
  {
   "cell_type": "code",
   "execution_count": 4,
   "id": "1109d6d7",
   "metadata": {},
   "outputs": [
    {
     "name": "stdout",
     "output_type": "stream",
     "text": [
      "removing duplicate sequences... done: 529 -> 529\n",
      "θ = 0.0 threshold = 0.0\n",
      "M = 529 N = 2549 Meff = 529\n"
     ]
    },
    {
     "data": {
      "text/plain": [
       "(ArNet [N=2549 q=21], ArVar [N=2549 M=529 q=21 λJ = 0.00010000000000000002 λH = 1.0000000000000004e-6 Z::Int8])"
      ]
     },
     "execution_count": 4,
     "metadata": {},
     "output_type": "execute_result"
    }
   ],
   "source": [
    "arnet, arvar = ardca(fastafile,  lambdaJ=10^-4,lambdaH=10^-6,max_gap_fraction=1, theta = 0, verbose=false)"
   ]
  },
  {
   "cell_type": "code",
   "execution_count": 5,
   "id": "4b7890a3-1397-4f22-9aa4-b1072699a008",
   "metadata": {},
   "outputs": [],
   "source": [
    "@extract arnet:J H idxperm p0;\n",
    "@extract arvar:W;"
   ]
  },
  {
   "cell_type": "code",
   "execution_count": 6,
   "id": "cd058e08-6a92-459b-9790-f63c1a12a923",
   "metadata": {},
   "outputs": [],
   "source": [
    "outJ, outH = tensorize(arnet);"
   ]
  },
  {
   "cell_type": "code",
   "execution_count": 7,
   "id": "ef954831-ec8f-4c72-97da-85dc8e937bf8",
   "metadata": {},
   "outputs": [],
   "source": [
    "using NPZ\n",
    "## CHANGE TO MTOR\n",
    "npzwrite(\"~/hodaakl/A4PSV/ArDCA/EqWeights/J_mtor_ardca_eqW.npz\" ,outJ)\n",
    "npzwrite(\"~/hodaakl/A4PSV/ArDCA/EqWeights/H_mtor_ardca_eqW.npz\" ,outH)\n",
    "npzwrite(\"~/hodaakl/A4PSV/ArDCA/EqWeights/p0_mtor_ardca_eqW.npz\",p0)\n",
    "npzwrite(\"~/hodaakl/A4PSV/ArDCA/EqWeights/W_mtor_ardca_eqW.npz\" , W)\n",
    "npzwrite(\"~/hodaakl/A4PSV/ArDCA/EqWeights/idxperm_mtor_ardca.npz\",idxperm)"
   ]
  },
  {
   "cell_type": "code",
   "execution_count": null,
   "id": "ae7c157a-1850-4d16-80c3-6d5cd7732cc3",
   "metadata": {},
   "outputs": [],
   "source": []
  },
  {
   "cell_type": "code",
   "execution_count": 8,
   "id": "ec190004",
   "metadata": {},
   "outputs": [],
   "source": [
    "M = 529;\n",
    "generated_alignment = sample(arnet,M);"
   ]
  },
  {
   "cell_type": "code",
   "execution_count": 62,
   "id": "f2944eb1-5426-4f84-9d6c-99a4aec23012",
   "metadata": {
    "collapsed": true,
    "jupyter": {
     "outputs_hidden": true
    },
    "tags": []
   },
   "outputs": [
    {
     "data": {
      "text/plain": [
       "1091×1010 Matrix{Int64}:\n",
       " 21  21  21  21  21  21  21  21  21  …  21  21  21  21  21  21  21  21  21\n",
       " 21  21  21  21  21  21  21  21  21     21  21  21  21  21  21  21  21  21\n",
       " 21  21  21  21  21  21  21  21  21     21  21  21  21  21  21  21  21  21\n",
       " 21  21  21  21  21  21  21  21  21     21  21  21  21  21  21  21  21  21\n",
       " 21  21  21  21  21  21  21  21  21     21  21  21  21  21  21  21  21  21\n",
       " 21  21  21  21  21  21  21  21  21  …  21  21  21  21  21  21  21  21  21\n",
       " 21  21  21  21  21  21  21  21  21     21  21  21  21  21  21  21  21  21\n",
       " 21  21  21  21  21  21  21  21  21     21  21  21  21  21  21  21  21  21\n",
       " 21  21  21  21  21  21  21  21  21     21  21  21  21  21  21  21  21  21\n",
       " 21  21  21  21  21  21  21  21  21     21  21   1  21  21  21  21  21  21\n",
       " 21  21  21  21  21  21  21  21  18  …  21  21  21  21  21  21  21  21  21\n",
       " 21  21  21  21  21  21  21  21  21     10  21  10  21  21  21  21  21  21\n",
       " 21  21  21  21  21  21  21  21  21     10  21   6  21  21  21  21  21  21\n",
       "  ⋮                   ⋮              ⋱                   ⋮              \n",
       " 21  21  21  21  21  21  21  21  21     21  21  21  21  21  21  21  21  21\n",
       " 21  21  21  21  21  21  21  21  21  …  21  21  21  21  21  21  21  21  21\n",
       " 21  21  21  21  21  21  21  21  21     21  21  21  21  21  21  21  21  21\n",
       " 21  21  21  21  21  21  21  21  21     21  21  21  21  21  21  21  21  21\n",
       " 21  21  21  21  21  21  21  21  21     21  21  21  21  21  21  21  21  21\n",
       " 21  21  21  21  21  21  21  21  21     21  21  21  21  21  21  21  21  21\n",
       " 21  21  21  21  21  21  21  21  21  …  21  21  21  21  21  21  21  21  21\n",
       " 21  21  21  21  21  21  21  21  21     21  21  21  21  21  21  21  21  21\n",
       " 21  21  21  21  21  21  21  21  21     21  21  21  21  21  21  21  21  21\n",
       " 21  21  21  21  21  21  21  21  21     21  21  21  21  21  21  21  21  21\n",
       " 21  21  21  21  21  21  21  21  21     21  21  21  21  21  21  21  21  21\n",
       " 21  21  21  21  21  21  21  21  21  …  21  21  21  21  21  21  21  21  21"
      ]
     },
     "execution_count": 62,
     "metadata": {},
     "output_type": "execute_result"
    }
   ],
   "source": [
    "generated_alignment"
   ]
  },
  {
   "cell_type": "code",
   "execution_count": 9,
   "id": "bbb9b187",
   "metadata": {},
   "outputs": [],
   "source": [
    "## save the generated data\n",
    "npzwrite(\"/Volumes/hodaakl/A4PSV/ArDCA/EqWeights/Gen_mtor_ardca_eqW.npz\",generated_alignment)"
   ]
  },
  {
   "cell_type": "markdown",
   "id": "8ea04f3e-b78b-42b1-b9db-3425a1ed6535",
   "metadata": {},
   "source": [
    "### (Reviewer 1 req) Changing regularizations on ArDCA."
   ]
  },
  {
   "cell_type": "markdown",
   "id": "bb6159d9-2b35-49fb-adb1-451271705804",
   "metadata": {},
   "source": [
    "The recommended regularization in the paper for generative tests are $\\lambda_J = 10^{-4}$ and $\\lambda_H = 10^{-6}$ . \n",
    "\n",
    "We can experiment with $\\lambda_J = 10^{-3}, 10^{-5}$ and $\\lambda_H = 10^{-5}, 10^{-7}$ "
   ]
  },
  {
   "cell_type": "code",
   "execution_count": 3,
   "id": "37c460c7-8c50-4395-ac5f-48e665a80d38",
   "metadata": {},
   "outputs": [
    {
     "data": {
      "text/plain": [
       "\"../../data/msa_egfr_unimsa.fa\""
      ]
     },
     "execution_count": 3,
     "metadata": {},
     "output_type": "execute_result"
    }
   ],
   "source": [
    "\n",
    "\n",
    "# arnet, arvar = ardca(fastafile,  lambdaJ=10^-4,lambdaH=10^-6,max_gap_fraction=1, theta = 0, verbose=false)\n"
   ]
  },
  {
   "cell_type": "code",
   "execution_count": null,
   "id": "4603dc18-1534-4270-b5d7-f48109873fc6",
   "metadata": {},
   "outputs": [
    {
     "name": "stdout",
     "output_type": "stream",
     "text": [
      "Starting\n",
      "removing duplicate sequences... done: 1010 -> 1010\n",
      "θ = 0.0 threshold = 0.0\n",
      "M = 1010 N = 1091 Meff = 1010\n",
      "/Volumes/hodaakl/A4PSV/ArDCA/EqWeights/Gen_egfr_ardca_eqW_lj_0.0010000000000000002_lh_1.0000000000000003e-5.npz\n",
      "Done\n",
      "Starting\n",
      "removing duplicate sequences... done: 1010 -> 1010\n",
      "θ = 0.0 threshold = 0.0\n",
      "M = 1010 N = 1091 Meff = 1010\n",
      "/Volumes/hodaakl/A4PSV/ArDCA/EqWeights/Gen_egfr_ardca_eqW_lj_0.0010000000000000002_lh_1.0000000000000004e-6.npz\n",
      "Done\n",
      "Starting\n",
      "removing duplicate sequences... done: 1010 -> 1010\n",
      "θ = 0.0 threshold = 0.0\n",
      "M = 1010 N = 1091 Meff = 1010\n",
      "/Volumes/hodaakl/A4PSV/ArDCA/EqWeights/Gen_egfr_ardca_eqW_lj_0.0010000000000000002_lh_1.0000000000000004e-7.npz\n",
      "Done\n",
      "Starting\n",
      "removing duplicate sequences... done: 1010 -> 1010\n",
      "θ = 0.0 threshold = 0.0\n",
      "M = 1010 N = 1091 Meff = 1010\n",
      "/Volumes/hodaakl/A4PSV/ArDCA/EqWeights/Gen_egfr_ardca_eqW_lj_0.00010000000000000002_lh_1.0000000000000003e-5.npz\n",
      "Done\n",
      "Starting\n",
      "removing duplicate sequences... done: 1010 -> 1010\n",
      "θ = 0.0 threshold = 0.0\n",
      "M = 1010 N = 1091 Meff = 1010\n",
      "/Volumes/hodaakl/A4PSV/ArDCA/EqWeights/Gen_egfr_ardca_eqW_lj_0.00010000000000000002_lh_1.0000000000000004e-6.npz\n",
      "Done\n",
      "Starting\n",
      "removing duplicate sequences... done: 1010 -> 1010\n",
      "θ = 0.0 threshold = 0.0\n",
      "M = 1010 N = 1091 Meff = 1010\n"
     ]
    },
    {
     "ename": "LoadError",
     "evalue": "SystemError: opening file \"/Volumes/hodaakl/A4PSV/ArDCA/EqWeights/Gen_egfr_ardca_eqW_lj_0.00010000000000000002_lh_1.0000000000000004e-7.npz\": No such file or directory",
     "output_type": "error",
     "traceback": [
      "SystemError: opening file \"/Volumes/hodaakl/A4PSV/ArDCA/EqWeights/Gen_egfr_ardca_eqW_lj_0.00010000000000000002_lh_1.0000000000000004e-7.npz\": No such file or directory",
      "",
      "Stacktrace:",
      "  [1] systemerror(p::String, errno::Int32; extrainfo::Nothing)",
      "    @ Base ./error.jl:174",
      "  [2] #systemerror#68",
      "    @ ./error.jl:173 [inlined]",
      "  [3] systemerror",
      "    @ ./error.jl:173 [inlined]",
      "  [4] open(fname::String; lock::Bool, read::Nothing, write::Nothing, create::Nothing, truncate::Bool, append::Nothing)",
      "    @ Base ./iostream.jl:293",
      "  [5] open(fname::String, mode::String; lock::Bool)",
      "    @ Base ./iostream.jl:355",
      "  [6] open(fname::String, mode::String)",
      "    @ Base ./iostream.jl:355",
      "  [7] open(::NPZ.var\"#17#18\"{Matrix{Int64}}, ::String, ::Vararg{String}; kwargs::Base.Pairs{Symbol, Union{}, Tuple{}, NamedTuple{(), Tuple{}}})",
      "    @ Base ./io.jl:328",
      "  [8] open",
      "    @ ./io.jl:328 [inlined]",
      "  [9] npzwrite(filename::String, x::Matrix{Int64})",
      "    @ NPZ ~/.julia/packages/NPZ/UCofn/src/NPZ.jl:389",
      " [10] top-level scope",
      "    @ ./In[5]:12",
      " [11] eval",
      "    @ ./boot.jl:373 [inlined]",
      " [12] include_string(mapexpr::typeof(REPL.softscope), mod::Module, code::String, filename::String)",
      "    @ Base ./loading.jl:1196"
     ]
    }
   ],
   "source": [
    "fastafile = \"../../data/msa_egfr_unimsa.fa\"\n",
    "\n",
    "reg_J = [10^-3, 10^-4,10^-5]\n",
    "reg_H = [10^-5, 10^-6,10^-7]\n",
    "M = 1010 \n",
    "using NPZ\n",
    "for lj in reg_J\n",
    "    # println(lj)\n",
    "    for lh in reg_H\n",
    "        println(lj)\n",
    "        println(lh)\n",
    "        println(\"Starting\")\n",
    "        path_string =  \"/Volumes/hodaakl/A4PSV/ArDCA/EqWeights/Gen_egfr_ardca_eqW_lj_$(lj)_lh_$(lh).npz\"\n",
    "        arnet, arvar = ardca(fastafile,  lambdaJ=lj,lambdaH=lh ,max_gap_fraction=1, theta = 0, verbose=false)\n",
    "        generated_alignment = sample(arnet,M)\n",
    "        npzwrite(path_string,generated_alignment)\n",
    "        println(path_string)\n",
    "        println(\"Done\")\n",
    "    end\n",
    "end"
   ]
  },
  {
   "cell_type": "code",
   "execution_count": null,
   "id": "851b86a0-bf53-4e2a-8e54-c77700223957",
   "metadata": {},
   "outputs": [],
   "source": []
  }
 ],
 "metadata": {
  "kernelspec": {
   "display_name": "Julia 1.7.2",
   "language": "julia",
   "name": "julia-1.7"
  },
  "language_info": {
   "file_extension": ".jl",
   "mimetype": "application/julia",
   "name": "julia",
   "version": "1.7.2"
  }
 },
 "nbformat": 4,
 "nbformat_minor": 5
}
