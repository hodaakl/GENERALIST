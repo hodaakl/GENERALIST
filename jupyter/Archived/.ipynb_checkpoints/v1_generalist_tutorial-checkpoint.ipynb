{
 "cells": [
  {
   "cell_type": "markdown",
   "id": "81fb8cc9-5622-46c9-b3be-1fefc1f0e141",
   "metadata": {},
   "source": [
    "# Welcome to GENERALIST tutorial jupyter notebook! \n",
    "GENERALIST is a generative model for categorical data. We apply it to protein sequences (21 categories, 20 amino acids + gap), to obtain new sequences. \n",
    "We assess the quality of this model through various tests like reproducablity of the statistics of the data and the Hamming distances. \n",
    "\n",
    "In this notebook we will use fasta file for P53 present in this repo, you can swap that for any other fasta file. \n",
    "\n",
    "We will:\n",
    "- Use BPT1 fasta file for this tutorial ==>`` '../data/msa_BPT1_unimsa.fa'``  and run the inference algorithm\n",
    "- obtain generated sequences \n",
    "- run tests on those sequences \n",
    "\n",
    "When changing data from string (amino acid letters) to numerical form, we use the correspondance ``AA_Letters = ['A', 'C', 'D', 'E', 'F', 'G', 'H', 'I', 'K', 'L', 'M', 'N', 'P', 'Q', 'R', 'S', 'T', 'V', 'W', 'Y', '-' ]`` ==> [0,1,2,....,20]"
   ]
  },
  {
   "cell_type": "code",
   "execution_count": 1,
   "id": "7dcb422f",
   "metadata": {},
   "outputs": [],
   "source": [
    "# import functions\n",
    "import sys\n",
    "sys.path.append('../../Versions/version1/src/')\n",
    "from compile_generalist_fn import generalist\n",
    "from data_process_fns import Convert_fastaToNp"
   ]
  },
  {
   "cell_type": "markdown",
   "id": "f16b62d0-8590-4954-aeb1-f12f6e85ffa9",
   "metadata": {},
   "source": [
    "To run generalist we need to one hot encode the msa. The function ``Convert_fastaToNp`` takes in a fasta file and gets a 3-D binary matrix of shape ==> [Number of categories (21), Number of sequences, Number of positions in a sequence ]. \n",
    "\n",
    "\n",
    "\n",
    "If you are working with another type of categorical you can one hot encode your data to be of the shape ==> [Number of categories , Number of samples , Number of features] and run GENERALIST on that. "
   ]
  },
  {
   "cell_type": "code",
   "execution_count": 2,
   "id": "2e6fe420",
   "metadata": {},
   "outputs": [
    {
     "name": "stdout",
     "output_type": "stream",
     "text": [
      "Shape of one hot encoded data is (21, 16569, 51)\n"
     ]
    }
   ],
   "source": [
    "FastaFilePath  = '../data/msa_BPT1_unimsa.fa' # file path of the fasta file \n",
    "# If the MSA file has sequences without labels (no > label line )\n",
    "# before the sequence, then set labels_inc =False \n",
    "data_one_hot = Convert_fastaToNp(filepath = FastaFilePath, binary = True, labels_inc =True)\n",
    "print(f'Shape of one hot encoded data is {data_one_hot.shape}')"
   ]
  },
  {
   "cell_type": "markdown",
   "id": "30f30fe8-6c67-4c89-8de7-a832f003d7e5",
   "metadata": {},
   "source": [
    "## Run the inference "
   ]
  },
  {
   "cell_type": "markdown",
   "id": "5a1148b5-008a-4a89-a720-c845e053af96",
   "metadata": {},
   "source": [
    "the function ``generalist`` runs the inference and saves parameters $z$ and $\\theta$ in the output directory specified in the next cell. The parameters are saved as torch and numpy tensors. \n",
    "In the training the model learns the probabilities of having any category/amino acid $a$ in any position $l$ in any specific sample $n$\n",
    "$$\\pi_{anl} = \\frac{\\exp(- \\sum_k z_{nk} \\theta_{akl})}{\\Omega_{nl}}$$\n",
    "\n",
    "$K$ is the latent dimension for the model, and is specified by the user. \n",
    "\n",
    "``generalist`` uses GPU is available for computation, if not it will use CPU. If GPU is available but you want to run using CPU specify the ``generalist`` argument ``use_gpu_if_avail = False``. \n"
   ]
  },
  {
   "cell_type": "code",
   "execution_count": 30,
   "id": "50917916",
   "metadata": {},
   "outputs": [
    {
     "name": "stdout",
     "output_type": "stream",
     "text": [
      "running on cpu\n",
      "one hot encoded data of size (21, 16569, 51)\n",
      "wrote details file\n",
      "started inference..\n",
      "takes 0.5291109085083008 seconds for the first step\n",
      "Inference is over\n",
      "step takes 0.5815548300102882 seconds \n",
      "Saved files for k = 42\n",
      "wrote details file\n",
      "Updated details files\n",
      "inference done in 9.023792445659637 minutes for k = 42\n",
      "output files at directory ../BPT1_output_k42/\n"
     ]
    }
   ],
   "source": [
    "k= 42 # the latent dimension\n",
    "output_directory = f'../BPT1_output_k{k}/' # the output directory where the parameters will be saved \n",
    "#This function should detect a gpu if available, otherwise runs on cpu, if GPU is available but you want to run on CPU set use_gpu_if_avail = False \n",
    "generalist(sigmas = data_one_hot, k = k, out_dir = output_directory) # \n",
    "# parameters are saved in the directory output_directory "
   ]
  },
  {
   "cell_type": "markdown",
   "id": "74552918-fcfa-4587-9e2b-c4a032af4db7",
   "metadata": {},
   "source": [
    "## Generate data from the model"
   ]
  },
  {
   "cell_type": "markdown",
   "id": "16b96107-257d-4d10-a821-2102c6afceea",
   "metadata": {},
   "source": [
    "Now that the model is trained, we can use the learned probabilies to generate new sequences/samples. The ``Generator`` class uses the output directory where the parameters $z$ and $\\theta$ and the latent dimension K defined before to load the files. \n",
    "\n",
    "The method ``GenData`` uses those parameters loaded in ``Generator`` object to sample from the probabilities. This method generates sequences in Numerical form [0..20] by default,  or one-hot-encoded if the method argument ``output_binary = True``. \n",
    "\n",
    "``GenData`` samples with replacement from the inferred $z$ values, saved in the output directory, and uses the sampled $z$s along with $\\theta$ to get sequence probabilities $/pi$ and  generate new sequences, if sampled $z$, $\\theta$ or $pi$ are needed then set the argument ``output_params=True``"
   ]
  },
  {
   "cell_type": "code",
   "execution_count": 3,
   "id": "4f684cf7",
   "metadata": {},
   "outputs": [
    {
     "name": "stdout",
     "output_type": "stream",
     "text": [
      "(16569, 51)\n"
     ]
    }
   ],
   "source": [
    "from loader_class import Generator\n",
    "import numpy as np \n",
    "k= 42 # the latent dimension\n",
    "output_directory = f'../BPT1_output_k{k}/' # the output directory where the parameters will be saved \n",
    "ngen = 16569 #number of sequences generated\n",
    "Gen_obj = Generator(output_directory, k = k) # define the object \n",
    "generated_data = Gen_obj.GenData(ngen) #, output_binary = False\n",
    "print(generated_data.shape)\n",
    "# if the parameters Z and Theta are wanted \n",
    "# generated_data, z, theta, pi = Gen_obj.GenData(ngen,output_params=True)"
   ]
  },
  {
   "cell_type": "code",
   "execution_count": 8,
   "id": "1989b2cf",
   "metadata": {},
   "outputs": [],
   "source": [
    "### save the generated dataset as numpy matrix \n",
    "file_name = f'generated_data.npy'\n",
    "output_fn = f'{output_directory}{file_name}'\n",
    "np.save(output_fn, generated_data)"
   ]
  },
  {
   "cell_type": "code",
   "execution_count": 10,
   "id": "79b5bfc6-e882-49f5-ac03-0e3d76bb0321",
   "metadata": {
    "collapsed": true,
    "jupyter": {
     "outputs_hidden": true
    },
    "tags": []
   },
   "outputs": [
    {
     "name": "stdout",
     "output_type": "stream",
     "text": [
      "done with save = True\n"
     ]
    },
    {
     "data": {
      "text/plain": [
       "'---MSQSTQTSEFLSPEVFQHIWDFLEQSMDCIRMQDSELSDPQYTNLGLLNSMDQQIQNGSSSTSPYNTDHAQNSVTAPSPYAQPSSTALSPSPAIPSNTDYPGPHSFDVSFQQSSTAKSATWTYSTELKKLYCQIAKTCPIQIKVMTPPPQGAVIRAMPVYKKAEHVTEVVKRCPNHELSRENEGIAPPSHLIRVEGNSHAQYVEDPITGRQSVLVPYEPPQVGTEFTTILYNFMCNSSCVGGMNRRPILIIVTLETRDGQVLGRRCFEARICACPGRDRKADEDSIRKQQVSDST-KNDDAFRQNTHGIQMTSIKKRRSPDEELLYLPVRGRETY---\\n'"
      ]
     },
     "execution_count": 10,
     "metadata": {},
     "output_type": "execute_result"
    }
   ],
   "source": [
    "# if you want to save the generated data as fasta file -- the output of this function is the last saved sequence \n",
    "from data_process_fns import Conv_save_NpToFasta\n",
    "Conv_save_NpToFasta(generated_data, path= output_directory + f'generated_set_k{k}.fa',  label = 'generated_seq', verbose = True , save = True, include_fish_sym = True)\n"
   ]
  },
  {
   "cell_type": "markdown",
   "id": "ba32ff0b-a8e9-42ba-b4d5-cb46d2111fa6",
   "metadata": {},
   "source": [
    "## Analysis"
   ]
  },
  {
   "cell_type": "markdown",
   "id": "388c3ba6-223a-4a1c-b529-c9925c25655a",
   "metadata": {},
   "source": [
    "Now that we have some generated sequences, we can run various tests on them to see how well they match the original ones. "
   ]
  },
  {
   "cell_type": "markdown",
   "id": "36b91d54-2cd5-405b-b4b9-f94363624dbd",
   "metadata": {},
   "source": [
    "### The statistics\n",
    "Calculating single site frequencies the mean removed correlation of various orders. \n",
    "The funciton ``Calc_nBody_Corr`` takes the original dataset and the generated dataset as arguments, as well as the order of the statistics, and obtains arrays for the frequencies of amino acid combinations in both datasets. \n",
    "\n",
    "For order > 1, 7000 amino acid combinaitons are randomly sampled, to change that number use the argument ``nTest`` in ``Calc_nBody_Corr``. \n",
    "\n",
    "Also for order > 1, the frequencies are mean removed , to change that use the argument ``mean_removed=False`` "
   ]
  },
  {
   "cell_type": "code",
   "execution_count": 4,
   "id": "8345b1e6-fb64-4e7d-aa10-335a67e730db",
   "metadata": {},
   "outputs": [],
   "source": [
    "from performance_fns import Calc_nBody_Corr, calculate_r_metric\n",
    "import matplotlib.pyplot as plt"
   ]
  },
  {
   "cell_type": "code",
   "execution_count": 8,
   "id": "e5712f30-2e3f-44ae-beb6-4b57cd9a2f1f",
   "metadata": {
    "tags": []
   },
   "outputs": [
    {
     "data": {
      "image/png": "[encoded data removed]",
      "text/plain": [
       "<Figure size 1008x360 with 4 Axes>"
      ]
     },
     "metadata": {
      "needs_background": "light"
     },
     "output_type": "display_data"
    }
   ],
   "source": [
    "# correlation\n",
    "order_list = [1,2,3,4]\n",
    "fig, ax = plt.subplots(ncols = len(order_list), figsize = (14,5))\n",
    "i = 0\n",
    "for order in order_list: \n",
    "    freq_og, freq_gen =  Calc_nBody_Corr(data_one_hot, generated_data, n = order, mean_removed = True) #nTest = 7000 ,mean_removed = True\n",
    "    r = np.corrcoef(freq_og, freq_gen)[0,1] #pearson corr coeff\n",
    "    a, b = np.polyfit(freq_og, freq_gen, deg=1) #slope of linear fit line\n",
    "    ax[i].scatter(freq_og, freq_gen)\n",
    "    ax[i].plot(freq_og, freq_og, c = 'r')\n",
    "    ax[i].set_title(f'order {order}\\nPearson = {np.round(r,3)}\\nSlope = {np.round(a,3)}')\n",
    "    ax[i].set_xlabel(f'natural')\n",
    "    ax[i].set_ylabel(f'generated')\n",
    "    i+=1 \n",
    "plt.tight_layout()"
   ]
  },
  {
   "cell_type": "markdown",
   "id": "12bb13df-e487-4795-b4a1-cc0d2b968de7",
   "metadata": {},
   "source": []
  },
  {
   "cell_type": "markdown",
   "id": "6e1f89ac-a7a8-4415-8dc0-ea96d471a450",
   "metadata": {},
   "source": [
    "### $r_m$\n",
    "\n",
    "We use the metric published in ____ to assess the ability of GENERALIST to capture even higher order statistics. In the paper $m = 20$, in our function, ``m`` is an argument. \n",
    "This function calculated the average of the pearson coefficient of correlation obtained from multiple repitions (default 100), for each statisitcs order $n$. \n",
    "\n",
    "The argument ``nlist`` is the list of orders you want to plot, it is ``nlist = np.arange(1,11)`` by default\n",
    " "
   ]
  },
  {
   "cell_type": "code",
   "execution_count": 9,
   "id": "f1cb4c3f-a6a5-4ba1-8180-8664abc16d2e",
   "metadata": {
    "tags": []
   },
   "outputs": [
    {
     "name": "stdout",
     "output_type": "stream",
     "text": [
      "0.645374059677124 seconds to finish n =  1\n",
      "2.084495782852173 seconds to finish n =  2\n",
      "7.511128187179565 seconds to finish n =  3\n",
      "18.070141077041626 seconds to finish n =  4\n",
      "38.666942834854126 seconds to finish n =  5\n",
      "63.27637791633606 seconds to finish n =  6\n",
      "94.93430924415588 seconds to finish n =  7\n",
      "126.95423579216003 seconds to finish n =  8\n",
      "145.27735996246338 seconds to finish n =  9\n",
      "174.0239381790161 seconds to finish n =  10\n"
     ]
    }
   ],
   "source": [
    "r_arr = calculate_r_metric(data_one_hot, generated_data, nlist = nlist, verbose = 1)\n"
   ]
  },
  {
   "cell_type": "code",
   "execution_count": 17,
   "id": "f9c7b67d-50c9-4b81-9a8f-c78d12d1815c",
   "metadata": {},
   "outputs": [
    {
     "data": {
      "text/plain": [
       "(0.0, 1.1)"
      ]
     },
     "execution_count": 17,
     "metadata": {},
     "output_type": "execute_result"
    },
    {
     "data": {
      "image/png": "[encoded data removed]",
      "text/plain": [
       "<Figure size 432x288 with 1 Axes>"
      ]
     },
     "metadata": {
      "needs_background": "light"
     },
     "output_type": "display_data"
    }
   ],
   "source": [
    "nlist = np.arange(1,11)\n",
    "i = 0\n",
    "plt.plot(nlist,r_arr)\n",
    "plt.scatter(nlist, r_arr)\n",
    "plt.ylabel(r'$r_{20}$', fontsize = 15)\n",
    "plt.xlabel(f'$n$', fontsize = 15)\n",
    "plt.ylim([0,1.1])\n"
   ]
  },
  {
   "cell_type": "markdown",
   "id": "4672ff46-2f45-46f7-a041-23bf51589652",
   "metadata": {},
   "source": [
    "### Hamming distance\n",
    "We can look at the density of the inferred sequence space through calculating the normalized Hamming distance between \n",
    "- the generated sequences and their closest natural neighbors -- $h_{min}$ to MSA -- function ``calc_ham_arr``\n",
    "- the generated sequences and their closest generated neighbor, same with the natural sequences. -- $h_{min}$ within the ensemble -- funtion ``calc_ham_arr``\n",
    "- random pairs of sequences in the same ensemble -- $h_{rand}$ within the ensemble -- funtion ``cal_ham_randompairs``"
   ]
  },
  {
   "cell_type": "code",
   "execution_count": 18,
   "id": "b09d7b0d-3275-4668-a1ec-07f7afa4a9e6",
   "metadata": {},
   "outputs": [],
   "source": [
    "from performance_fns import calc_ham_arr , cal_ham_randompairs\n"
   ]
  },
  {
   "cell_type": "code",
   "execution_count": 20,
   "id": "c21e460a-b192-4c05-8491-9d28bded21af",
   "metadata": {},
   "outputs": [
    {
     "name": "stdout",
     "output_type": "stream",
     "text": [
      "two datasets are the same, removing the examined sequence from comparison\n",
      "two datasets are the same, removing the examined sequence from comparison\n"
     ]
    }
   ],
   "source": [
    "min_ham_tomsa = calc_ham_arr(data_one_hot, generated_data) #min hamming distance between generated sequence and MSA\n",
    "min_ham_nat = calc_ham_arr(data_one_hot, data_one_hot , same_data = True) # minimum hamming distance between natural sequences and natural neighbors\n",
    "min_ham_gen = calc_ham_arr(generated_data, generated_data , same_data = True)# minimum hamming distance between generated sequences and generated neighbors\n",
    "rand_ham_gen = cal_ham_randompairs(generated_data, generated_data) # hamming distance between random pairs in generated sequences\n",
    "rand_ham_nat = cal_ham_randompairs(data_one_hot, data_one_hot) # hamming distance between random pairs in natural sequences"
   ]
  },
  {
   "cell_type": "code",
   "execution_count": 26,
   "id": "d3fa5201-fb0c-4827-a3e1-f4801871da69",
   "metadata": {},
   "outputs": [
    {
     "data": {
      "image/png": "[encoded data removed]",
      "text/plain": [
       "<Figure size 1008x360 with 3 Axes>"
      ]
     },
     "metadata": {
      "needs_background": "light"
     },
     "output_type": "display_data"
    }
   ],
   "source": [
    "fig, ax = plt.subplots(ncols = 3, figsize = (14,5))\n",
    "i = 0\n",
    "ax[i].hist(min_ham, label = 'GENERALIST', alpha = .5)\n",
    "ax[i].hist(min_ham_nat, label = 'MSA', alpha = .5)\n",
    "ax[i].set_xlabel(r'$h_{min}$ to MSA', fontsize = 15)\n",
    "ax[i].set_ylabel('count', fontsize = 15)\n",
    "ax[i].legend()\n",
    "i+=1 \n",
    "ax[i].hist(min_ham_gen, label = 'GENERALIST', alpha = .5)\n",
    "ax[i].hist(min_ham_nat, label = 'MSA', alpha = .5)\n",
    "ax[i].set_xlabel(r'$h_{min}$ within ensemble', fontsize = 15)\n",
    "ax[i].set_ylabel('count', fontsize = 15)\n",
    "ax[i].legend()\n",
    "\n",
    "i+=1 \n",
    "ax[i].hist(rand_ham_gen, label = 'GENERALIST', alpha = .5)\n",
    "ax[i].hist(rand_ham_nat, label = 'MSA', alpha = .5)\n",
    "ax[i].set_xlabel(r'$h_{rand}$ within ensemble', fontsize = 15)\n",
    "ax[i].set_ylabel('count', fontsize = 15)\n",
    "ax[i].legend()\n",
    "\n",
    "\n",
    "plt.tight_layout()"
   ]
  },
  {
   "cell_type": "code",
   "execution_count": null,
   "id": "57d19bf2-f845-4e08-8590-e826b386dca7",
   "metadata": {},
   "outputs": [],
   "source": []
  }
 ],
 "metadata": {
  "kernelspec": {
   "display_name": "Python 3 (ipykernel)",
   "language": "python",
   "name": "python3"
  },
  "language_info": {
   "codemirror_mode": {
    "name": "ipython",
    "version": 3
   },
   "file_extension": ".py",
   "mimetype": "text/x-python",
   "name": "python",
   "nbconvert_exporter": "python",
   "pygments_lexer": "ipython3",
   "version": "3.9.7"
  },
  "vscode": {
   "interpreter": {
    "hash": "40d3a090f54c6569ab1632332b64b2c03c39dcf918b08424e98f38b5ae0af88f"
   }
  }
 },
 "nbformat": 4,
 "nbformat_minor": 5
}
