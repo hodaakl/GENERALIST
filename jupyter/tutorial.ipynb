{
 "cells": [
  {
   "cell_type": "markdown",
   "id": "81fb8cc9-5622-46c9-b3be-1fefc1f0e141",
   "metadata": {},
   "source": [
    "# GENERALIST \n",
    "In this notebook we can run GENERALIST to obtain the parameters $Z$ and $\\Theta$ that define the distribution from which the sequences are sampled"
   ]
  },
  {
   "cell_type": "code",
   "execution_count": 1,
   "id": "7dcb422f",
   "metadata": {},
   "outputs": [],
   "source": [
    "# import functions\n",
    "import sys\n",
    "sys.path.append('../src/')\n",
    "from compile_generalist_fn import generalist\n",
    "from data_process_fns import Convert_fastaToNp"
   ]
  },
  {
   "cell_type": "code",
   "execution_count": 4,
   "id": "2e6fe420",
   "metadata": {},
   "outputs": [
    {
     "data": {
      "text/plain": [
       "(21, 785, 341)"
      ]
     },
     "execution_count": 4,
     "metadata": {},
     "output_type": "execute_result"
    }
   ],
   "source": [
    "# one hot encode the msa : This function takes in a fasta file and gets a 3-D matrix of shape ==> Number of categories (21), Number of sequences, Number of positions in a sequence \n",
    "# if you are working with other data you can one hot encode your data to be of the shape ==> Number of categories , Number of samples , Number of features\n",
    "# and run GENERALIST \n",
    "FastaFilePath  = '../data/msa_p53_unimsa.fa' # file path of the fasta file \n",
    "# If the MSA file has sequences without labels (no > label line )\n",
    "# before the sequence, then set labels_inc =False \n",
    "msa_one_hot = Convert_fastaToNp(filepath = FastaFilePath, binary = True, labels_inc =True)\n",
    "msa_one_hot.shape"
   ]
  },
  {
   "cell_type": "markdown",
   "id": "30f30fe8-6c67-4c89-8de7-a832f003d7e5",
   "metadata": {},
   "source": [
    "## Run the inference "
   ]
  },
  {
   "cell_type": "code",
   "execution_count": 5,
   "id": "50917916",
   "metadata": {},
   "outputs": [
    {
     "name": "stdout",
     "output_type": "stream",
     "text": [
      "running on cpu\n",
      "one hot encoded data of size (21, 785, 341)\n",
      "wrote details file\n",
      "started inference..\n",
      "takes 0.10729098320007324 seconds for the first step\n",
      "Inference is over\n",
      "step takes 0.07642378283841578 seconds \n",
      "Saved files for k = 7\n",
      "wrote details file\n",
      "Updated details files\n",
      "inference done in 1.125977067152659 minutes for k = 7\n",
      "output files at directory ../p53_output_k7/\n"
     ]
    }
   ],
   "source": [
    "k= 7 # decide on the latent dimension for the model\n",
    "output_directory = f'../p53_output_k{k}/' # the output directory where the parameters will be saved \n",
    "#This function should detect a gpu if available, otherwise runs on cpu, if GPU is available but you want to run on CPU set use_gpu_if_avail = False \n",
    "generalist(sigmas = msa_one_hot, k = k, out_dir = output_directory) # \n",
    "# parameters are saved in the directory output_directory "
   ]
  },
  {
   "cell_type": "markdown",
   "id": "74552918-fcfa-4587-9e2b-c4a032af4db7",
   "metadata": {},
   "source": [
    "## Generate data "
   ]
  },
  {
   "cell_type": "code",
   "execution_count": 6,
   "id": "4f684cf7",
   "metadata": {},
   "outputs": [
    {
     "name": "stdout",
     "output_type": "stream",
     "text": [
      "(1000, 341)\n"
     ]
    }
   ],
   "source": [
    "from loader_class import Generator\n",
    "import numpy as np \n",
    "ngen = 1000 #number of sequences generated \n",
    "Gen_obj = Generator(output_directory, k = k)\n",
    "generated_data = Gen_obj.GenData(ngen) #numpy array\n",
    "print(generated_data.shape)\n"
   ]
  },
  {
   "cell_type": "code",
   "execution_count": 7,
   "id": "1989b2cf",
   "metadata": {},
   "outputs": [],
   "source": [
    "### save the generated dataset as numpy matrix \n",
    "file_name = f'generated_data.npy'\n",
    "output_fn = f'{output_directory}{file_name}'\n",
    "np.save(output_fn, generated_data)"
   ]
  },
  {
   "cell_type": "markdown",
   "id": "ba32ff0b-a8e9-42ba-b4d5-cb46d2111fa6",
   "metadata": {},
   "source": [
    "## Analysis"
   ]
  },
  {
   "cell_type": "markdown",
   "id": "36b91d54-2cd5-405b-b4b9-f94363624dbd",
   "metadata": {},
   "source": [
    "### The statistics"
   ]
  },
  {
   "cell_type": "markdown",
   "id": "4f293809-8908-4f4e-9b0d-b37a84358342",
   "metadata": {},
   "source": [
    "### Hamming distance"
   ]
  },
  {
   "cell_type": "code",
   "execution_count": null,
   "id": "c21e460a-b192-4c05-8491-9d28bded21af",
   "metadata": {},
   "outputs": [],
   "source": []
  }
 ],
 "metadata": {
  "kernelspec": {
   "display_name": "Python 3.9.7 ('base')",
   "language": "python",
   "name": "python3"
  },
  "language_info": {
   "codemirror_mode": {
    "name": "ipython",
    "version": 3
   },
   "file_extension": ".py",
   "mimetype": "text/x-python",
   "name": "python",
   "nbconvert_exporter": "python",
   "pygments_lexer": "ipython3",
   "version": "3.9.7"
  },
  "vscode": {
   "interpreter": {
    "hash": "40d3a090f54c6569ab1632332b64b2c03c39dcf918b08424e98f38b5ae0af88f"
   }
  }
 },
 "nbformat": 4,
 "nbformat_minor": 5
}
