{
 "cells": [
  {
   "cell_type": "markdown",
   "id": "12b4fbcc-66a0-4145-b631-684ace171b4f",
   "metadata": {},
   "source": [
    "# Welcome to GENERALIST tutorial jupyter notebook! \n",
    "GENERALIST is a generative model for categorical data. We apply it to protein sequences (21 categories, 20 amino acids + gap), to obtain new sequences. \n",
    "We assess the quality of this model through various tests like reproducablity of the statistics of the data and the Hamming distances. \n",
    "\n",
    "In this notebook we will use fasta file for P53 present in this repo, you can swap that for any other fasta file. \n",
    "\n",
    "We will:\n",
    "- Use BPT1 fasta file for this tutorial ==>`` '../data/msa_BPT1_unimsa.fa'``  and run the inference algorithm\n",
    "- obtain generated sequences \n",
    "- run tests on those sequences \n",
    "\n",
    "When changing data from string (amino acid letters) to numerical form, we use the correspondance ``AA_Letters = ['A', 'C', 'D', 'E', 'F', 'G', 'H', 'I', 'K', 'L', 'M', 'N', 'P', 'Q', 'R', 'S', 'T', 'V', 'W', 'Y', '-' ]`` ==> [0,1,2,....,20]"
   ]
  },
  {
   "cell_type": "code",
   "execution_count": 1,
   "id": "eb43628e-741e-4b5d-a8a4-c491fb7b142f",
   "metadata": {},
   "outputs": [],
   "source": [
    "# add relevant paths\n",
    "import sys\n",
    "import numpy as np\n",
    "sys.path.append('../src_class')\n",
    "sys.path.append('../data')"
   ]
  },
  {
   "cell_type": "markdown",
   "id": "343ddf38-c847-464c-ac08-7c45f1f7bcd5",
   "metadata": {},
   "source": [
    "To run generalist we need to one hot encode the msa. The function ``Convert_fastaToNp`` takes in a fasta file and gets a 3-D binary matrix of shape ==> [Number of categories (21), Number of sequences, Number of positions in a sequence ]. \n",
    "\n",
    "\n",
    "\n",
    "If you are working with another type of categorical data you can one hot encode your data to be of the shape ==> [Number of categories , Number of samples , Number of features] and run GENERALIST on that. \n",
    "\n",
    "If your FASTA file does not include labels for the sequences (i.e. no >sequence label line, only the sequeneces) then set the argument ``labels_inc=False`` in ``Convert_fastaToNp`` function"
   ]
  },
  {
   "cell_type": "code",
   "execution_count": 2,
   "id": "f8cb78f3-fa13-4724-a70f-ae434f9e1a8f",
   "metadata": {},
   "outputs": [],
   "source": [
    "from data_process_fns import Convert_fastaToNp\n",
    "FastaFilePath  = '../data/msa_BPT1_unimsa.fa' # file path of the fasta file \n",
    "data_one_hot = Convert_fastaToNp(filepath = FastaFilePath, binary = True, labels_inc =True)\n"
   ]
  },
  {
   "cell_type": "markdown",
   "id": "9cb4c685-2b1b-4a84-ae2e-9300a2d4b467",
   "metadata": {},
   "source": [
    "## Initialize the model"
   ]
  },
  {
   "cell_type": "markdown",
   "id": "9b4da91a-e565-4ba8-9e09-756a56520cdc",
   "metadata": {},
   "source": [
    "The class Generalist is initialized by determining the one hot encoding data, the model latent dimension ``k``. The model parameters $z$ and $\\theta$ are initialized randomly.  \n",
    "$K$ is the latent dimension for the model, and is specified by the user. \n",
    "\n"
   ]
  },
  {
   "cell_type": "code",
   "execution_count": 3,
   "id": "3f785f23-30c5-4956-8bc8-c3b9bf4b6c1b",
   "metadata": {},
   "outputs": [],
   "source": [
    "## initializing an instance of the model generalist\n",
    "from generalist_class import Generalist\n",
    "k = 42\n",
    "generalist = Generalist(data_one_hot,k )"
   ]
  },
  {
   "cell_type": "markdown",
   "id": "5f4ebe47-40d5-43a8-b49a-997a00b7c03b",
   "metadata": {},
   "source": [
    "## Run the inference "
   ]
  },
  {
   "cell_type": "markdown",
   "id": "dcf2294e-28d1-434c-9c1d-b1c2c812f3f7",
   "metadata": {},
   "source": [
    "In the training the model learns the probabilities of having any category/amino acid $a$ in any position $l$ in any specific sample $n$\n",
    "$$\\pi_{anl} = \\frac{\\exp(- \\sum_k z_{nk} \\theta_{akl})}{\\Omega_{nl}}$$\n",
    "\n",
    "\n",
    "``generalist`` uses GPU is available for computation, if not it will use CPU. If GPU is available but you want to run using CPU specify the argument ``use_gpu_if_avail = False`` for the method ``train``\n"
   ]
  },
  {
   "cell_type": "code",
   "execution_count": null,
   "id": "82ef4c90-d9a6-497a-aaa4-3ed754e6a487",
   "metadata": {},
   "outputs": [
    {
     "name": "stdout",
     "output_type": "stream",
     "text": [
      "running on cpu\n",
      "one hot encoded data of size (21, 16569, 51)\n",
      "started inference...\n",
      "takes 0.5104780197143555 seconds for the first step\n"
     ]
    }
   ],
   "source": [
    "generalist.train() #use_gpu_if_avail = True"
   ]
  },
  {
   "cell_type": "markdown",
   "id": "56c2d0be-c207-4337-98a2-bb28fd9f0545",
   "metadata": {},
   "source": [
    "## Generate data from the model"
   ]
  },
  {
   "cell_type": "markdown",
   "id": "923c0989-5381-4bcb-aae6-610f711fd5c2",
   "metadata": {},
   "source": [
    "Now that the model is trained, we can use the learned probabilies to generate new sequences/samples. The ``generate`` method uses the learned probabilities $\\pi$ to sample new sequences. \n",
    "\n",
    "The generated sequences are in Numerical form [0..20] by default,  or one-hot-encoded if the method argument ``output_binary = True``. "
   ]
  },
  {
   "cell_type": "code",
   "execution_count": null,
   "id": "cfe4823f-a48a-4878-8453-23769ba93059",
   "metadata": {},
   "outputs": [],
   "source": [
    "ngen = 16569 #same number of sequences in natural MSA \n",
    "generated_data = generalist.generate(nGen = ngen) # output_binary = False"
   ]
  },
  {
   "cell_type": "markdown",
   "id": "7f31b590-7527-45f3-af94-2d6d402a585c",
   "metadata": {},
   "source": [
    "## Analysis\n",
    "Now that we have some generated sequences, we can run various tests on them to see how well they match the original ones. "
   ]
  },
  {
   "cell_type": "markdown",
   "id": "c1503811-2835-46c1-88ad-4859e869e83b",
   "metadata": {},
   "source": [
    "### The statistics\n",
    "Calculating single site frequencies the mean removed correlation of various orders. \n",
    "The funciton ``Calc_nBody_Corr`` takes the original dataset and the generated dataset as arguments, as well as the order of the statistics, and obtains arrays for the frequencies of amino acid combinations in both datasets. \n",
    "\n",
    "For order > 1, 7000 amino acid combinaitons are randomly sampled, to change that number use the argument ``nTest`` in ``Calc_nBody_Corr``. \n",
    "\n",
    "Also for order > 1, the frequencies are mean removed , to change that use the argument ``mean_removed=False`` "
   ]
  },
  {
   "cell_type": "code",
   "execution_count": null,
   "id": "652ca5c2-89ab-49b5-bb80-e4d57dda80c2",
   "metadata": {},
   "outputs": [],
   "source": [
    "from performance_fns import Calc_nBody_Corr, calculate_r_metric\n",
    "import matplotlib.pyplot as plt"
   ]
  },
  {
   "cell_type": "code",
   "execution_count": null,
   "id": "8d725419-18d4-418f-bd51-d12bf0e5db9d",
   "metadata": {},
   "outputs": [],
   "source": [
    "# correlation\n",
    "order_list = [1,2,3,4]\n",
    "fig, ax = plt.subplots(ncols = len(order_list), figsize = (14,5))\n",
    "i = 0\n",
    "for order in order_list: \n",
    "    freq_og, freq_gen =  Calc_nBody_Corr(data_one_hot, generated_data, n = order, mean_removed = True) #nTest = 7000 ,mean_removed = True\n",
    "    r = np.corrcoef(freq_og, freq_gen)[0,1] #pearson corr coeff\n",
    "    a, b = np.polyfit(freq_og, freq_gen, deg=1) #slope of linear fit line\n",
    "    ax[i].scatter(freq_og, freq_gen)\n",
    "    ax[i].plot(freq_og, freq_og, c = 'r')\n",
    "    ax[i].set_title(f'order {order}\\nPearson = {np.round(r,3)}\\nSlope = {np.round(a,3)}')\n",
    "    ax[i].set_xlabel(f'natural')\n",
    "    ax[i].set_ylabel(f'generated')\n",
    "    i+=1 \n",
    "plt.tight_layout()"
   ]
  },
  {
   "cell_type": "markdown",
   "id": "53bcb58c-5f5c-49ff-838a-46f32570a7af",
   "metadata": {},
   "source": [
    "### $r_m$\n",
    "\n",
    "We use the metric published in ____ to assess the ability of GENERALIST to capture even higher order statistics. In the paper $m = 20$, in our function, ``m`` is an argument. \n",
    "This function calculated the average of the pearson coefficient of correlation obtained from multiple repitions (default 100), for each statisitcs order $n$. \n",
    "\n",
    "The argument ``nlist`` is the list of orders you want to plot, it is ``nlist = np.arange(1,11)`` by default\n",
    " "
   ]
  },
  {
   "cell_type": "code",
   "execution_count": null,
   "id": "e90ef6da-c3e9-402a-b083-b021b9fe5737",
   "metadata": {},
   "outputs": [],
   "source": [
    "nlist = np.arange(1,11)\n",
    "\n",
    "r_arr = calculate_r_metric(data_one_hot, generated_data, nlist = nlist, verbose = 1)\n"
   ]
  },
  {
   "cell_type": "code",
   "execution_count": null,
   "id": "8a506a2f-58ba-45b2-896c-c3bd07d26d21",
   "metadata": {},
   "outputs": [],
   "source": [
    "nlist = np.arange(1,11)\n",
    "i = 0\n",
    "plt.plot(nlist,r_arr)\n",
    "plt.scatter(nlist, r_arr)\n",
    "plt.ylabel(r'$r_{20}$', fontsize = 15)\n",
    "plt.xlabel(f'$n$', fontsize = 15)\n",
    "plt.ylim([0,1.1])\n"
   ]
  },
  {
   "cell_type": "markdown",
   "id": "83b8696b-bb15-41a8-bb24-d9286bf1d10c",
   "metadata": {},
   "source": [
    "### Hamming distance\n",
    "We can look at the density of the inferred sequence space through calculating the normalized Hamming distance between \n",
    "- the generated sequences and their closest natural neighbors -- $h_{min}$ to MSA -- function ``calc_ham_arr``\n",
    "- the generated sequences and their closest generated neighbor, same with the natural sequences. -- $h_{min}$ within the ensemble -- funtion ``calc_ham_arr``\n",
    "- random pairs of sequences in the same ensemble -- $h_{rand}$ within the ensemble -- funtion ``cal_ham_randompairs``"
   ]
  },
  {
   "cell_type": "code",
   "execution_count": null,
   "id": "30ef3df5-87ad-44dc-85bf-763ab67601ff",
   "metadata": {},
   "outputs": [],
   "source": [
    "from performance_fns import calc_ham_arr , cal_ham_randompairs\n"
   ]
  },
  {
   "cell_type": "code",
   "execution_count": null,
   "id": "f298a229-6266-4eb8-8e1f-3d5212eb28d9",
   "metadata": {},
   "outputs": [],
   "source": [
    "min_ham_tomsa = calc_ham_arr(data_one_hot, generated_data) #min hamming distance between generated sequence and MSA\n",
    "min_ham_nat = calc_ham_arr(data_one_hot, data_one_hot , same_data = True) # minimum hamming distance between natural sequences and natural neighbors\n",
    "min_ham_gen = calc_ham_arr(generated_data, generated_data , same_data = True)# minimum hamming distance between generated sequences and generated neighbors\n",
    "rand_ham_gen = cal_ham_randompairs(generated_data, generated_data) # hamming distance between random pairs in generated sequences - default number of pairs = 1000\n",
    "rand_ham_nat = cal_ham_randompairs(data_one_hot, data_one_hot) # hamming distance between random pairs in natural sequences - default number of pairs = 1000"
   ]
  },
  {
   "cell_type": "code",
   "execution_count": null,
   "id": "042d99e4-1169-4775-8cc9-dcdaecf03cfe",
   "metadata": {},
   "outputs": [],
   "source": [
    "fig, ax = plt.subplots(ncols = 3, figsize = (14,5))\n",
    "i = 0\n",
    "ax[i].hist(min_ham_tomsa, label = 'GENERALIST', alpha = .5)\n",
    "ax[i].hist(min_ham_nat, label = 'MSA', alpha = .5)\n",
    "ax[i].set_xlabel(r'$h_{min}$ to MSA', fontsize = 15)\n",
    "ax[i].set_ylabel('count', fontsize = 15)\n",
    "ax[i].legend()\n",
    "i+=1 \n",
    "ax[i].hist(min_ham_gen, label = 'GENERALIST', alpha = .5)\n",
    "ax[i].hist(min_ham_nat, label = 'MSA', alpha = .5)\n",
    "ax[i].set_xlabel(r'$h_{min}$ within ensemble', fontsize = 15)\n",
    "ax[i].set_ylabel('count', fontsize = 15)\n",
    "ax[i].legend()\n",
    "\n",
    "i+=1 \n",
    "ax[i].hist(rand_ham_gen, label = 'GENERALIST', alpha = .5)\n",
    "ax[i].hist(rand_ham_nat, label = 'MSA', alpha = .5)\n",
    "ax[i].set_xlabel(r'$h_{rand}$ between pairs within ensemble', fontsize = 15)\n",
    "ax[i].set_ylabel('count', fontsize = 15)\n",
    "ax[i].legend()\n",
    "\n",
    "\n",
    "plt.tight_layout()"
   ]
  },
  {
   "cell_type": "code",
   "execution_count": null,
   "id": "f0758fd6-983c-4c56-928f-09ded3297c20",
   "metadata": {},
   "outputs": [],
   "source": []
  }
 ],
 "metadata": {
  "kernelspec": {
   "display_name": "Python 3 (ipykernel)",
   "language": "python",
   "name": "python3"
  },
  "language_info": {
   "codemirror_mode": {
    "name": "ipython",
    "version": 3
   },
   "file_extension": ".py",
   "mimetype": "text/x-python",
   "name": "python",
   "nbconvert_exporter": "python",
   "pygments_lexer": "ipython3",
   "version": "3.9.7"
  }
 },
 "nbformat": 4,
 "nbformat_minor": 5
}
